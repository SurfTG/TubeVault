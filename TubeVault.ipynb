{
  "cells": [
    {
      "cell_type": "markdown",
      "metadata": {},
      "source": [
        "# \ud83c\udfa5 Smart YouTube Downloader (yt-dlp)\n",
        "\n",
        "This notebook auto-detects whether the link is a **video** or a **playlist**, and gives you the right quality options automatically \u2014 just like YouTube\u2019s quality menu.\n",
        "\n",
        "\u2705 Single videos \u2192 dropdown with *exact* available qualities  \n",
        "\u2705 Playlists \u2192 choose a *target quality* (applies to all videos, with graceful fallback)  \n",
        "\u2705 Optional cookies.txt upload for login/age-restricted videos  \n",
        "\u2705 Downloads to **MyDrive/YT-Downloads**\n"
      ]
    },
    {
      "cell_type": "code",
      "metadata": {
        "cellView": "form"
      },
      "execution_count": null,
      "outputs": [],
      "source": [
        "#@title \u25b6\ufe0f Setup (Run First)\n",
        "!pip install -U yt-dlp > /dev/null\n",
        "!apt-get install -y ffmpeg > /dev/null\n",
        "from google.colab import drive\n",
        "import os\n",
        "drive.mount('/content/drive')\n",
        "os.makedirs('/content/drive/MyDrive/YT-Downloads', exist_ok=True)\n",
        "print('\u2705 Setup complete. Files will save to MyDrive/YT-Downloads')"
      ]
    },
    {
      "cell_type": "code",
      "metadata": {
        "cellView": "form"
      },
      "execution_count": null,
      "outputs": [],
      "source": [
        "#@title (Optional) Upload cookies.txt\n",
        "from google.colab import files\n",
        "uploaded = files.upload()\n",
        "if 'cookies.txt' in uploaded:\n",
        "    print('\u2705 Cookies uploaded.')\n",
        "else:\n",
        "    print('\u2139\ufe0f No cookies.txt uploaded. Proceeding without.')"
      ]
    },
    {
      "cell_type": "code",
      "metadata": {
        "cellView": "form"
      },
      "execution_count": null,
      "outputs": [],
      "source": [
        "#@title \ud83c\udfac Enter YouTube Link\n",
        "yt_url = \"\" #@param {type:\"string\"}\n",
        "\n",
        "import json, subprocess\n",
        "if not yt_url.strip():\n",
        "    raise ValueError(\"\u26a0\ufe0f Please enter a YouTube link above.\")\n",
        "\n",
        "# Probe metadata\n",
        "probe = subprocess.run([\"yt-dlp\", \"-J\", yt_url, \"--flat-playlist\"], capture_output=True, text=True)\n",
        "data = json.loads(probe.stdout)\n",
        "\n",
        "is_playlist = \"entries\" in data\n",
        "print(\"\ud83d\udd0d Detected:\", \"Playlist\" if is_playlist else \"Single Video\")\n",
        "\n",
        "if not is_playlist:\n",
        "    # Get all available formats for a single video\n",
        "    probe = subprocess.run([\"yt-dlp\", \"-F\", yt_url], capture_output=True, text=True)\n",
        "    print(probe.stdout)\n",
        "    print(\"\ud83d\udc46 Above are the available formats. Choose one in the next cell.\")\n",
        "else:\n",
        "    print(\"\u2139\ufe0f Playlist detected. You\u2019ll select a target quality in the next cell.\")"
      ]
    },
    {
      "cell_type": "code",
      "metadata": {
        "cellView": "form"
      },
      "execution_count": null,
      "outputs": [],
      "source": [
        "#@title \ud83c\udf9a\ufe0f Select Quality & Download\n",
        "is_playlist = 'list=' in yt_url or 'playlist' in yt_url\n",
        "\n",
        "if not is_playlist:\n",
        "    chosen_format = \"best\" #@param {type:\"string\"}\n",
        "    print(f\"\u25b6\ufe0f Downloading single video in format: {chosen_format}\")\n",
        "    cmd = f\"yt-dlp -f {chosen_format} --no-playlist -o '/content/drive/MyDrive/YT-Downloads/%(title)s.%(ext)s'\"\n",
        "else:\n",
        "    target_quality = \"720p\" #@param [\"144p\",\"240p\",\"360p\",\"480p\",\"720p\",\"1080p\",\"best\",\"audio\"]\n",
        "    print(f\"\u25b6\ufe0f Downloading playlist with target: {target_quality}\")\n",
        "\n",
        "    if target_quality == \"audio\":\n",
        "        cmd = \"yt-dlp -f 'bestaudio' -x --audio-format mp3\"\n",
        "    elif target_quality == \"best\":\n",
        "        cmd = \"yt-dlp -f 'bestvideo+bestaudio/best'\"\n",
        "    else:\n",
        "        # map resolution to format selector with fallback\n",
        "        res_map = {\n",
        "            \"144p\": \"bestvideo[height<=144]+bestaudio/best[height<=144]\",\n",
        "            \"240p\": \"bestvideo[height<=240]+bestaudio/best[height<=240]\",\n",
        "            \"360p\": \"bestvideo[height<=360]+bestaudio/best[height<=360]\",\n",
        "            \"480p\": \"bestvideo[height<=480]+bestaudio/best[height<=480]\",\n",
        "            \"720p\": \"bestvideo[height<=720]+bestaudio/best[height<=720]\",\n",
        "            \"1080p\": \"bestvideo[height<=1080]+bestaudio/best[height<=1080]\",\n",
        "        }\n",
        "        cmd = f\"yt-dlp -f '{res_map[target_quality]}'\"\n",
        "\n",
        "    cmd += f\" -o '/content/drive/MyDrive/YT-Downloads/%(title)s.%(ext)s' '{yt_url}'\"\n",
        "\n",
        "if 'cookies.txt' in os.listdir():\n",
        "    cmd += \" --cookies cookies.txt\"\n",
        "\n",
        "print('\u25b6\ufe0f Running:', cmd)\n",
        "!$cmd"
      ]
    }
  ],
  "metadata": {
    "colab": {
      "name": "Smart_YT_Downloader",
      "provenance": []
    },
    "kernelspec": {
      "display_name": "Python 3",
      "name": "python3"
    },
    "language_info": {
      "name": "python"
    }
  },
  "nbformat": 4,
  "nbformat_minor": 0
}